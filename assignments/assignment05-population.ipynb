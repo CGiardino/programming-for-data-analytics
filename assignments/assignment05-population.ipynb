{
 "cells": [
  {
   "cell_type": "markdown",
   "id": "56c4e6d1",
   "metadata": {},
   "source": [
    "## Weighted stats\n",
    "- This notebook is made in the Programming for Data Analytics lecture on weighted descriptive statistics.\n",
    "- We are looking at population in each county of Ireland\n"
   ]
  },
  {
   "cell_type": "code",
   "id": "e71b0552",
   "metadata": {
    "ExecuteTime": {
     "end_time": "2025-10-26T20:10:18.689389Z",
     "start_time": "2025-10-26T20:10:18.686794Z"
    }
   },
   "source": [
    "import pandas as pd"
   ],
   "outputs": [],
   "execution_count": 40
  },
  {
   "cell_type": "code",
   "id": "d0e6aaf4",
   "metadata": {
    "ExecuteTime": {
     "end_time": "2025-10-26T20:10:19.096672Z",
     "start_time": "2025-10-26T20:10:18.714874Z"
    }
   },
   "source": [
    "url = \"https://ws.cso.ie/public/api.restful/PxStat.Data.Cube_API.ReadDataset/FY006A/CSV/1.0/en\"\n",
    "df = pd.read_csv(url)\n",
    "df.tail(3)"
   ],
   "outputs": [
    {
     "data": {
      "text/plain": [
       "      STATISTIC Statistic Label  TLIST(A1)  CensusYear C02199V02655     Sex  \\\n",
       "9789  FY006AC01      Population       2022        2022            2  Female   \n",
       "9790  FY006AC01      Population       2022        2022            2  Female   \n",
       "9791  FY006AC01      Population       2022        2022            2  Female   \n",
       "\n",
       "     C02076V03371  Single Year of Age                          C03789V04537  \\\n",
       "9789          650  100 years and over  2ae19629-149d-13a3-e055-000000000001   \n",
       "9790          650  100 years and over  2ae19629-14a4-13a3-e055-000000000001   \n",
       "9791          650  100 years and over  2ae19629-1495-13a3-e055-000000000001   \n",
       "\n",
       "      Administrative Counties    UNIT  VALUE  \n",
       "9789     Cavan County Council  Number     12  \n",
       "9790   Donegal County Council  Number     31  \n",
       "9791  Monaghan County Council  Number      7  "
      ],
      "text/html": [
       "<div>\n",
       "<style scoped>\n",
       "    .dataframe tbody tr th:only-of-type {\n",
       "        vertical-align: middle;\n",
       "    }\n",
       "\n",
       "    .dataframe tbody tr th {\n",
       "        vertical-align: top;\n",
       "    }\n",
       "\n",
       "    .dataframe thead th {\n",
       "        text-align: right;\n",
       "    }\n",
       "</style>\n",
       "<table border=\"1\" class=\"dataframe\">\n",
       "  <thead>\n",
       "    <tr style=\"text-align: right;\">\n",
       "      <th></th>\n",
       "      <th>STATISTIC</th>\n",
       "      <th>Statistic Label</th>\n",
       "      <th>TLIST(A1)</th>\n",
       "      <th>CensusYear</th>\n",
       "      <th>C02199V02655</th>\n",
       "      <th>Sex</th>\n",
       "      <th>C02076V03371</th>\n",
       "      <th>Single Year of Age</th>\n",
       "      <th>C03789V04537</th>\n",
       "      <th>Administrative Counties</th>\n",
       "      <th>UNIT</th>\n",
       "      <th>VALUE</th>\n",
       "    </tr>\n",
       "  </thead>\n",
       "  <tbody>\n",
       "    <tr>\n",
       "      <th>9789</th>\n",
       "      <td>FY006AC01</td>\n",
       "      <td>Population</td>\n",
       "      <td>2022</td>\n",
       "      <td>2022</td>\n",
       "      <td>2</td>\n",
       "      <td>Female</td>\n",
       "      <td>650</td>\n",
       "      <td>100 years and over</td>\n",
       "      <td>2ae19629-149d-13a3-e055-000000000001</td>\n",
       "      <td>Cavan County Council</td>\n",
       "      <td>Number</td>\n",
       "      <td>12</td>\n",
       "    </tr>\n",
       "    <tr>\n",
       "      <th>9790</th>\n",
       "      <td>FY006AC01</td>\n",
       "      <td>Population</td>\n",
       "      <td>2022</td>\n",
       "      <td>2022</td>\n",
       "      <td>2</td>\n",
       "      <td>Female</td>\n",
       "      <td>650</td>\n",
       "      <td>100 years and over</td>\n",
       "      <td>2ae19629-14a4-13a3-e055-000000000001</td>\n",
       "      <td>Donegal County Council</td>\n",
       "      <td>Number</td>\n",
       "      <td>31</td>\n",
       "    </tr>\n",
       "    <tr>\n",
       "      <th>9791</th>\n",
       "      <td>FY006AC01</td>\n",
       "      <td>Population</td>\n",
       "      <td>2022</td>\n",
       "      <td>2022</td>\n",
       "      <td>2</td>\n",
       "      <td>Female</td>\n",
       "      <td>650</td>\n",
       "      <td>100 years and over</td>\n",
       "      <td>2ae19629-1495-13a3-e055-000000000001</td>\n",
       "      <td>Monaghan County Council</td>\n",
       "      <td>Number</td>\n",
       "      <td>7</td>\n",
       "    </tr>\n",
       "  </tbody>\n",
       "</table>\n",
       "</div>"
      ]
     },
     "execution_count": 41,
     "metadata": {},
     "output_type": "execute_result"
    }
   ],
   "execution_count": 41
  },
  {
   "cell_type": "markdown",
   "id": "1979172c",
   "metadata": {},
   "source": "I keep just the separated sexes"
  },
  {
   "cell_type": "code",
   "id": "8ec2b205",
   "metadata": {
    "ExecuteTime": {
     "end_time": "2025-10-26T20:10:19.131313Z",
     "start_time": "2025-10-26T20:10:19.125760Z"
    }
   },
   "source": [
    "df = df[df[\"Sex\"] != \"Both sexes\"]\n",
    "df.tail(3)"
   ],
   "outputs": [
    {
     "data": {
      "text/plain": [
       "      STATISTIC Statistic Label  TLIST(A1)  CensusYear C02199V02655     Sex  \\\n",
       "9789  FY006AC01      Population       2022        2022            2  Female   \n",
       "9790  FY006AC01      Population       2022        2022            2  Female   \n",
       "9791  FY006AC01      Population       2022        2022            2  Female   \n",
       "\n",
       "     C02076V03371  Single Year of Age                          C03789V04537  \\\n",
       "9789          650  100 years and over  2ae19629-149d-13a3-e055-000000000001   \n",
       "9790          650  100 years and over  2ae19629-14a4-13a3-e055-000000000001   \n",
       "9791          650  100 years and over  2ae19629-1495-13a3-e055-000000000001   \n",
       "\n",
       "      Administrative Counties    UNIT  VALUE  \n",
       "9789     Cavan County Council  Number     12  \n",
       "9790   Donegal County Council  Number     31  \n",
       "9791  Monaghan County Council  Number      7  "
      ],
      "text/html": [
       "<div>\n",
       "<style scoped>\n",
       "    .dataframe tbody tr th:only-of-type {\n",
       "        vertical-align: middle;\n",
       "    }\n",
       "\n",
       "    .dataframe tbody tr th {\n",
       "        vertical-align: top;\n",
       "    }\n",
       "\n",
       "    .dataframe thead th {\n",
       "        text-align: right;\n",
       "    }\n",
       "</style>\n",
       "<table border=\"1\" class=\"dataframe\">\n",
       "  <thead>\n",
       "    <tr style=\"text-align: right;\">\n",
       "      <th></th>\n",
       "      <th>STATISTIC</th>\n",
       "      <th>Statistic Label</th>\n",
       "      <th>TLIST(A1)</th>\n",
       "      <th>CensusYear</th>\n",
       "      <th>C02199V02655</th>\n",
       "      <th>Sex</th>\n",
       "      <th>C02076V03371</th>\n",
       "      <th>Single Year of Age</th>\n",
       "      <th>C03789V04537</th>\n",
       "      <th>Administrative Counties</th>\n",
       "      <th>UNIT</th>\n",
       "      <th>VALUE</th>\n",
       "    </tr>\n",
       "  </thead>\n",
       "  <tbody>\n",
       "    <tr>\n",
       "      <th>9789</th>\n",
       "      <td>FY006AC01</td>\n",
       "      <td>Population</td>\n",
       "      <td>2022</td>\n",
       "      <td>2022</td>\n",
       "      <td>2</td>\n",
       "      <td>Female</td>\n",
       "      <td>650</td>\n",
       "      <td>100 years and over</td>\n",
       "      <td>2ae19629-149d-13a3-e055-000000000001</td>\n",
       "      <td>Cavan County Council</td>\n",
       "      <td>Number</td>\n",
       "      <td>12</td>\n",
       "    </tr>\n",
       "    <tr>\n",
       "      <th>9790</th>\n",
       "      <td>FY006AC01</td>\n",
       "      <td>Population</td>\n",
       "      <td>2022</td>\n",
       "      <td>2022</td>\n",
       "      <td>2</td>\n",
       "      <td>Female</td>\n",
       "      <td>650</td>\n",
       "      <td>100 years and over</td>\n",
       "      <td>2ae19629-14a4-13a3-e055-000000000001</td>\n",
       "      <td>Donegal County Council</td>\n",
       "      <td>Number</td>\n",
       "      <td>31</td>\n",
       "    </tr>\n",
       "    <tr>\n",
       "      <th>9791</th>\n",
       "      <td>FY006AC01</td>\n",
       "      <td>Population</td>\n",
       "      <td>2022</td>\n",
       "      <td>2022</td>\n",
       "      <td>2</td>\n",
       "      <td>Female</td>\n",
       "      <td>650</td>\n",
       "      <td>100 years and over</td>\n",
       "      <td>2ae19629-1495-13a3-e055-000000000001</td>\n",
       "      <td>Monaghan County Council</td>\n",
       "      <td>Number</td>\n",
       "      <td>7</td>\n",
       "    </tr>\n",
       "  </tbody>\n",
       "</table>\n",
       "</div>"
      ]
     },
     "execution_count": 42,
     "metadata": {},
     "output_type": "execute_result"
    }
   ],
   "execution_count": 42
  },
  {
   "cell_type": "markdown",
   "id": "9ddd7162",
   "metadata": {},
   "source": [
    "Now I can do the code that is the prep for analysis.py  \n",
    "I just noticed that there were more columns so I need to get their names"
   ]
  },
  {
   "cell_type": "code",
   "id": "d6d72e19",
   "metadata": {
    "scrolled": true,
    "ExecuteTime": {
     "end_time": "2025-10-26T20:10:19.243537Z",
     "start_time": "2025-10-26T20:10:19.240381Z"
    }
   },
   "source": [
    "headers = df.columns.tolist()\n",
    "headers"
   ],
   "outputs": [
    {
     "data": {
      "text/plain": [
       "['STATISTIC',\n",
       " 'Statistic Label',\n",
       " 'TLIST(A1)',\n",
       " 'CensusYear',\n",
       " 'C02199V02655',\n",
       " 'Sex',\n",
       " 'C02076V03371',\n",
       " 'Single Year of Age',\n",
       " 'C03789V04537',\n",
       " 'Administrative Counties',\n",
       " 'UNIT',\n",
       " 'VALUE']"
      ]
     },
     "execution_count": 43,
     "metadata": {},
     "output_type": "execute_result"
    }
   ],
   "execution_count": 43
  },
  {
   "cell_type": "code",
   "id": "08f6cda0",
   "metadata": {
    "ExecuteTime": {
     "end_time": "2025-10-26T20:10:19.288662Z",
     "start_time": "2025-10-26T20:10:19.279626Z"
    }
   },
   "source": [
    "drop_col_list = ['STATISTIC', 'Statistic Label','TLIST(A1)','CensusYear','C02199V02655','Administrative Counties','C02076V03371','C03789V04537','UNIT']\n",
    "df.drop(columns=drop_col_list, inplace=True)\n",
    "df = df[df[\"Single Year of Age\"] != \"All ages\"]\n",
    "df['Single Year of Age'] = df['Single Year of Age'].str.replace('Under 1 year', '0')\n",
    "df['Single Year of Age'] = df['Single Year of Age'].str.replace('\\D', '', regex=True)\n",
    "\n",
    "df['Single Year of Age']=df['Single Year of Age'].astype('int64')\n",
    "df['VALUE']=df['VALUE'].astype('int64')\n",
    "df.info()\n"
   ],
   "outputs": [
    {
     "name": "stdout",
     "output_type": "stream",
     "text": [
      "<class 'pandas.core.frame.DataFrame'>\n",
      "Index: 6464 entries, 3296 to 9791\n",
      "Data columns (total 3 columns):\n",
      " #   Column              Non-Null Count  Dtype \n",
      "---  ------              --------------  ----- \n",
      " 0   Sex                 6464 non-null   object\n",
      " 1   Single Year of Age  6464 non-null   int64 \n",
      " 2   VALUE               6464 non-null   int64 \n",
      "dtypes: int64(2), object(1)\n",
      "memory usage: 202.0+ KB\n"
     ]
    },
    {
     "name": "stderr",
     "output_type": "stream",
     "text": [
      "<>:5: SyntaxWarning: invalid escape sequence '\\D'\n",
      "<>:5: SyntaxWarning: invalid escape sequence '\\D'\n",
      "/var/folders/71/lgn75sbs3sngtkrhdkwngslm0000gn/T/ipykernel_54001/2869108876.py:5: SyntaxWarning: invalid escape sequence '\\D'\n",
      "  df['Single Year of Age'] = df['Single Year of Age'].str.replace('\\D', '', regex=True)\n"
     ]
    }
   ],
   "execution_count": 44
  },
  {
   "cell_type": "code",
   "id": "ce078e65",
   "metadata": {
    "ExecuteTime": {
     "end_time": "2025-10-26T20:10:19.299057Z",
     "start_time": "2025-10-26T20:10:19.293362Z"
    }
   },
   "source": [
    "df_anal = pd.pivot_table(df, 'VALUE',\"Single Year of Age\",\"Sex\")\n",
    "print (df_anal.head(3))\n",
    "# write out the entire file to local machine\n",
    "df_anal.to_csv(\"population_for_analysis.csv\")"
   ],
   "outputs": [
    {
     "name": "stdout",
     "output_type": "stream",
     "text": [
      "Sex                    Female       Male\n",
      "Single Year of Age                      \n",
      "0                   1761.6250  1850.6250\n",
      "1                   1721.5625  1804.6875\n",
      "2                   1810.8750  1889.7500\n"
     ]
    }
   ],
   "execution_count": 45
  },
  {
   "cell_type": "markdown",
   "id": "ff892a81",
   "metadata": {},
   "source": [
    "## Now we can do weighted descriptive statistics"
   ]
  },
  {
   "metadata": {
    "ExecuteTime": {
     "end_time": "2025-10-26T20:10:19.308907Z",
     "start_time": "2025-10-26T20:10:19.305660Z"
    }
   },
   "cell_type": "code",
   "source": [
    "sexes = list(df_anal.columns)\n",
    "sexes"
   ],
   "id": "d35365ca",
   "outputs": [
    {
     "data": {
      "text/plain": [
       "['Female', 'Male']"
      ]
     },
     "execution_count": 46,
     "metadata": {},
     "output_type": "execute_result"
    }
   ],
   "execution_count": 46
  },
  {
   "cell_type": "markdown",
   "id": "7453bfad",
   "metadata": {},
   "source": [
    "Weighted mean is sum(age*population at age) / sum (populations at age)"
   ]
  },
  {
   "cell_type": "code",
   "id": "8466d64e",
   "metadata": {
    "ExecuteTime": {
     "end_time": "2025-10-26T20:10:19.331551Z",
     "start_time": "2025-10-26T20:10:19.327077Z"
    }
   },
   "source": [
    "number_people = df_anal[sexes].sum()\n",
    "number_people_df = number_people.to_frame(name='Number of People')\n",
    "number_people_df\n"
   ],
   "outputs": [
    {
     "data": {
      "text/plain": [
       "        Number of People\n",
       "Sex                     \n",
       "Female       162786.8750\n",
       "Male         159034.3125"
      ],
      "text/html": [
       "<div>\n",
       "<style scoped>\n",
       "    .dataframe tbody tr th:only-of-type {\n",
       "        vertical-align: middle;\n",
       "    }\n",
       "\n",
       "    .dataframe tbody tr th {\n",
       "        vertical-align: top;\n",
       "    }\n",
       "\n",
       "    .dataframe thead th {\n",
       "        text-align: right;\n",
       "    }\n",
       "</style>\n",
       "<table border=\"1\" class=\"dataframe\">\n",
       "  <thead>\n",
       "    <tr style=\"text-align: right;\">\n",
       "      <th></th>\n",
       "      <th>Number of People</th>\n",
       "    </tr>\n",
       "    <tr>\n",
       "      <th>Sex</th>\n",
       "      <th></th>\n",
       "    </tr>\n",
       "  </thead>\n",
       "  <tbody>\n",
       "    <tr>\n",
       "      <th>Female</th>\n",
       "      <td>162786.8750</td>\n",
       "    </tr>\n",
       "    <tr>\n",
       "      <th>Male</th>\n",
       "      <td>159034.3125</td>\n",
       "    </tr>\n",
       "  </tbody>\n",
       "</table>\n",
       "</div>"
      ]
     },
     "execution_count": 47,
     "metadata": {},
     "output_type": "execute_result"
    }
   ],
   "execution_count": 47
  },
  {
   "cell_type": "code",
   "id": "78619831",
   "metadata": {
    "ExecuteTime": {
     "end_time": "2025-10-26T20:10:19.364596Z",
     "start_time": "2025-10-26T20:10:19.360569Z"
    }
   },
   "source": [
    "df_anal"
   ],
   "outputs": [
    {
     "data": {
      "text/plain": [
       "Sex                    Female       Male\n",
       "Single Year of Age                      \n",
       "0                   1761.6250  1850.6250\n",
       "1                   1721.5625  1804.6875\n",
       "2                   1810.8750  1889.7500\n",
       "3                   1842.6875  1937.5625\n",
       "4                   1863.6875  1980.3750\n",
       "...                       ...        ...\n",
       "96                    59.7500    20.4375\n",
       "97                    45.7500    13.5625\n",
       "98                    30.7500     8.1250\n",
       "99                    21.0000     6.5625\n",
       "100                   36.5000     9.6250\n",
       "\n",
       "[101 rows x 2 columns]"
      ],
      "text/html": [
       "<div>\n",
       "<style scoped>\n",
       "    .dataframe tbody tr th:only-of-type {\n",
       "        vertical-align: middle;\n",
       "    }\n",
       "\n",
       "    .dataframe tbody tr th {\n",
       "        vertical-align: top;\n",
       "    }\n",
       "\n",
       "    .dataframe thead th {\n",
       "        text-align: right;\n",
       "    }\n",
       "</style>\n",
       "<table border=\"1\" class=\"dataframe\">\n",
       "  <thead>\n",
       "    <tr style=\"text-align: right;\">\n",
       "      <th>Sex</th>\n",
       "      <th>Female</th>\n",
       "      <th>Male</th>\n",
       "    </tr>\n",
       "    <tr>\n",
       "      <th>Single Year of Age</th>\n",
       "      <th></th>\n",
       "      <th></th>\n",
       "    </tr>\n",
       "  </thead>\n",
       "  <tbody>\n",
       "    <tr>\n",
       "      <th>0</th>\n",
       "      <td>1761.6250</td>\n",
       "      <td>1850.6250</td>\n",
       "    </tr>\n",
       "    <tr>\n",
       "      <th>1</th>\n",
       "      <td>1721.5625</td>\n",
       "      <td>1804.6875</td>\n",
       "    </tr>\n",
       "    <tr>\n",
       "      <th>2</th>\n",
       "      <td>1810.8750</td>\n",
       "      <td>1889.7500</td>\n",
       "    </tr>\n",
       "    <tr>\n",
       "      <th>3</th>\n",
       "      <td>1842.6875</td>\n",
       "      <td>1937.5625</td>\n",
       "    </tr>\n",
       "    <tr>\n",
       "      <th>4</th>\n",
       "      <td>1863.6875</td>\n",
       "      <td>1980.3750</td>\n",
       "    </tr>\n",
       "    <tr>\n",
       "      <th>...</th>\n",
       "      <td>...</td>\n",
       "      <td>...</td>\n",
       "    </tr>\n",
       "    <tr>\n",
       "      <th>96</th>\n",
       "      <td>59.7500</td>\n",
       "      <td>20.4375</td>\n",
       "    </tr>\n",
       "    <tr>\n",
       "      <th>97</th>\n",
       "      <td>45.7500</td>\n",
       "      <td>13.5625</td>\n",
       "    </tr>\n",
       "    <tr>\n",
       "      <th>98</th>\n",
       "      <td>30.7500</td>\n",
       "      <td>8.1250</td>\n",
       "    </tr>\n",
       "    <tr>\n",
       "      <th>99</th>\n",
       "      <td>21.0000</td>\n",
       "      <td>6.5625</td>\n",
       "    </tr>\n",
       "    <tr>\n",
       "      <th>100</th>\n",
       "      <td>36.5000</td>\n",
       "      <td>9.6250</td>\n",
       "    </tr>\n",
       "  </tbody>\n",
       "</table>\n",
       "<p>101 rows × 2 columns</p>\n",
       "</div>"
      ]
     },
     "execution_count": 48,
     "metadata": {},
     "output_type": "execute_result"
    }
   ],
   "execution_count": 48
  },
  {
   "cell_type": "code",
   "id": "f9d66c3a",
   "metadata": {
    "ExecuteTime": {
     "end_time": "2025-10-26T20:10:19.438366Z",
     "start_time": "2025-10-26T20:10:19.434360Z"
    }
   },
   "source": [
    "cumages = df_anal[sexes].mul(df_anal.index, axis=0).sum()\n",
    "cumages_df = cumages.to_frame(name='Cumulative Age')\n",
    "cumages_df\n"
   ],
   "outputs": [
    {
     "data": {
      "text/plain": [
       "        Cumulative Age\n",
       "Sex                   \n",
       "Female    6.338888e+06\n",
       "Male      6.001867e+06"
      ],
      "text/html": [
       "<div>\n",
       "<style scoped>\n",
       "    .dataframe tbody tr th:only-of-type {\n",
       "        vertical-align: middle;\n",
       "    }\n",
       "\n",
       "    .dataframe tbody tr th {\n",
       "        vertical-align: top;\n",
       "    }\n",
       "\n",
       "    .dataframe thead th {\n",
       "        text-align: right;\n",
       "    }\n",
       "</style>\n",
       "<table border=\"1\" class=\"dataframe\">\n",
       "  <thead>\n",
       "    <tr style=\"text-align: right;\">\n",
       "      <th></th>\n",
       "      <th>Cumulative Age</th>\n",
       "    </tr>\n",
       "    <tr>\n",
       "      <th>Sex</th>\n",
       "      <th></th>\n",
       "    </tr>\n",
       "  </thead>\n",
       "  <tbody>\n",
       "    <tr>\n",
       "      <th>Female</th>\n",
       "      <td>6.338888e+06</td>\n",
       "    </tr>\n",
       "    <tr>\n",
       "      <th>Male</th>\n",
       "      <td>6.001867e+06</td>\n",
       "    </tr>\n",
       "  </tbody>\n",
       "</table>\n",
       "</div>"
      ]
     },
     "execution_count": 49,
     "metadata": {},
     "output_type": "execute_result"
    }
   ],
   "execution_count": 49
  },
  {
   "cell_type": "code",
   "id": "4098afba",
   "metadata": {
    "scrolled": true,
    "ExecuteTime": {
     "end_time": "2025-10-26T20:10:19.580414Z",
     "start_time": "2025-10-26T20:10:19.575250Z"
    }
   },
   "source": [
    "weighted_mean = cumages/number_people\n",
    "weighted_mean_df = weighted_mean.to_frame(name='Weighted Mean')\n",
    "weighted_mean_df"
   ],
   "outputs": [
    {
     "data": {
      "text/plain": [
       "        Weighted Mean\n",
       "Sex                  \n",
       "Female      38.939796\n",
       "Male        37.739448"
      ],
      "text/html": [
       "<div>\n",
       "<style scoped>\n",
       "    .dataframe tbody tr th:only-of-type {\n",
       "        vertical-align: middle;\n",
       "    }\n",
       "\n",
       "    .dataframe tbody tr th {\n",
       "        vertical-align: top;\n",
       "    }\n",
       "\n",
       "    .dataframe thead th {\n",
       "        text-align: right;\n",
       "    }\n",
       "</style>\n",
       "<table border=\"1\" class=\"dataframe\">\n",
       "  <thead>\n",
       "    <tr style=\"text-align: right;\">\n",
       "      <th></th>\n",
       "      <th>Weighted Mean</th>\n",
       "    </tr>\n",
       "    <tr>\n",
       "      <th>Sex</th>\n",
       "      <th></th>\n",
       "    </tr>\n",
       "  </thead>\n",
       "  <tbody>\n",
       "    <tr>\n",
       "      <th>Female</th>\n",
       "      <td>38.939796</td>\n",
       "    </tr>\n",
       "    <tr>\n",
       "      <th>Male</th>\n",
       "      <td>37.739448</td>\n",
       "    </tr>\n",
       "  </tbody>\n",
       "</table>\n",
       "</div>"
      ]
     },
     "execution_count": 50,
     "metadata": {},
     "output_type": "execute_result"
    }
   ],
   "execution_count": 50
  },
  {
   "cell_type": "markdown",
   "id": "9e81ea0d",
   "metadata": {},
   "source": [
    "#### Or you can use numpy"
   ]
  },
  {
   "cell_type": "code",
   "id": "0e52be27",
   "metadata": {
    "ExecuteTime": {
     "end_time": "2025-10-26T20:10:19.627526Z",
     "start_time": "2025-10-26T20:10:19.624360Z"
    }
   },
   "source": [
    "import numpy as np\n",
    "weighted_means = {}\n",
    "for sex in sexes:\n",
    "    weighted_means[sex] = np.average(df_anal.index, weights=df_anal[sex])\n",
    "\n",
    "print(f\"The weighted means by sex are: {weighted_means}\")"
   ],
   "outputs": [
    {
     "name": "stdout",
     "output_type": "stream",
     "text": [
      "The weighted means by sex are: {'Female': 38.9397958987787, 'Male': 37.7394477371039}\n"
     ]
    }
   ],
   "execution_count": 51
  },
  {
   "cell_type": "markdown",
   "id": "e8f95b44",
   "metadata": {},
   "source": [
    "### Weighted median\n",
    "create a series of the cumulative sums and find the index of the middle value"
   ]
  },
  {
   "cell_type": "code",
   "id": "7a8ccf7c",
   "metadata": {
    "ExecuteTime": {
     "end_time": "2025-10-26T20:10:19.673884Z",
     "start_time": "2025-10-26T20:10:19.666853Z"
    }
   },
   "source": [
    "cumsum = df_anal[sexes].cumsum()\n",
    "cumsum"
   ],
   "outputs": [
    {
     "data": {
      "text/plain": [
       "Sex                      Female         Male\n",
       "Single Year of Age                          \n",
       "0                     1761.6250    1850.6250\n",
       "1                     3483.1875    3655.3125\n",
       "2                     5294.0625    5545.0625\n",
       "3                     7136.7500    7482.6250\n",
       "4                     9000.4375    9463.0000\n",
       "...                         ...          ...\n",
       "96                  162652.8750  158996.4375\n",
       "97                  162698.6250  159010.0000\n",
       "98                  162729.3750  159018.1250\n",
       "99                  162750.3750  159024.6875\n",
       "100                 162786.8750  159034.3125\n",
       "\n",
       "[101 rows x 2 columns]"
      ],
      "text/html": [
       "<div>\n",
       "<style scoped>\n",
       "    .dataframe tbody tr th:only-of-type {\n",
       "        vertical-align: middle;\n",
       "    }\n",
       "\n",
       "    .dataframe tbody tr th {\n",
       "        vertical-align: top;\n",
       "    }\n",
       "\n",
       "    .dataframe thead th {\n",
       "        text-align: right;\n",
       "    }\n",
       "</style>\n",
       "<table border=\"1\" class=\"dataframe\">\n",
       "  <thead>\n",
       "    <tr style=\"text-align: right;\">\n",
       "      <th>Sex</th>\n",
       "      <th>Female</th>\n",
       "      <th>Male</th>\n",
       "    </tr>\n",
       "    <tr>\n",
       "      <th>Single Year of Age</th>\n",
       "      <th></th>\n",
       "      <th></th>\n",
       "    </tr>\n",
       "  </thead>\n",
       "  <tbody>\n",
       "    <tr>\n",
       "      <th>0</th>\n",
       "      <td>1761.6250</td>\n",
       "      <td>1850.6250</td>\n",
       "    </tr>\n",
       "    <tr>\n",
       "      <th>1</th>\n",
       "      <td>3483.1875</td>\n",
       "      <td>3655.3125</td>\n",
       "    </tr>\n",
       "    <tr>\n",
       "      <th>2</th>\n",
       "      <td>5294.0625</td>\n",
       "      <td>5545.0625</td>\n",
       "    </tr>\n",
       "    <tr>\n",
       "      <th>3</th>\n",
       "      <td>7136.7500</td>\n",
       "      <td>7482.6250</td>\n",
       "    </tr>\n",
       "    <tr>\n",
       "      <th>4</th>\n",
       "      <td>9000.4375</td>\n",
       "      <td>9463.0000</td>\n",
       "    </tr>\n",
       "    <tr>\n",
       "      <th>...</th>\n",
       "      <td>...</td>\n",
       "      <td>...</td>\n",
       "    </tr>\n",
       "    <tr>\n",
       "      <th>96</th>\n",
       "      <td>162652.8750</td>\n",
       "      <td>158996.4375</td>\n",
       "    </tr>\n",
       "    <tr>\n",
       "      <th>97</th>\n",
       "      <td>162698.6250</td>\n",
       "      <td>159010.0000</td>\n",
       "    </tr>\n",
       "    <tr>\n",
       "      <th>98</th>\n",
       "      <td>162729.3750</td>\n",
       "      <td>159018.1250</td>\n",
       "    </tr>\n",
       "    <tr>\n",
       "      <th>99</th>\n",
       "      <td>162750.3750</td>\n",
       "      <td>159024.6875</td>\n",
       "    </tr>\n",
       "    <tr>\n",
       "      <th>100</th>\n",
       "      <td>162786.8750</td>\n",
       "      <td>159034.3125</td>\n",
       "    </tr>\n",
       "  </tbody>\n",
       "</table>\n",
       "<p>101 rows × 2 columns</p>\n",
       "</div>"
      ]
     },
     "execution_count": 52,
     "metadata": {},
     "output_type": "execute_result"
    }
   ],
   "execution_count": 52
  },
  {
   "cell_type": "code",
   "id": "0436d3ee",
   "metadata": {
    "ExecuteTime": {
     "end_time": "2025-10-26T20:10:19.724865Z",
     "start_time": "2025-10-26T20:10:19.721614Z"
    }
   },
   "source": [
    "weighted_medians = {}\n",
    "for sex in sexes:\n",
    "    cumsum = df_anal[sex].cumsum()\n",
    "    cutoff = df_anal[sex].sum() / 2\n",
    "    median_age = cumsum.index[cumsum >= cutoff][0]\n",
    "    weighted_medians[sex] = median_age\n",
    "\n",
    "print(f\"The weighted medians by sex are: {weighted_medians}\")"
   ],
   "outputs": [
    {
     "name": "stdout",
     "output_type": "stream",
     "text": [
      "The weighted medians by sex are: {'Female': 39, 'Male': 38}\n"
     ]
    }
   ],
   "execution_count": 53
  },
  {
   "cell_type": "markdown",
   "id": "c44b528f",
   "metadata": {},
   "source": [
    "## Weighted standard deviation\n",
    "The weighted standard deviation uses the same formula as the regular standard deviation, but applies weights to the squared differences from the weighted mean.\n"
   ]
  },
  {
   "cell_type": "code",
   "id": "721c9168",
   "metadata": {
    "ExecuteTime": {
     "end_time": "2025-10-26T20:10:19.763889Z",
     "start_time": "2025-10-26T20:10:19.760204Z"
    }
   },
   "source": [
    "w_variances = {}\n",
    "for sex in sexes:\n",
    "    mean = np.average(df_anal.index, weights=df_anal[sex])\n",
    "    variance = np.average((df_anal.index - mean) ** 2, weights=df_anal[sex])\n",
    "    w_variances[sex] = variance\n",
    "\n",
    "print(f\"The weighted variances for each sex are: {w_variances}\")"
   ],
   "outputs": [
    {
     "name": "stdout",
     "output_type": "stream",
     "text": [
      "The weighted variances for each sex are: {'Female': 528.953520736661, 'Male': 513.9835070876321}\n"
     ]
    }
   ],
   "execution_count": 54
  },
  {
   "cell_type": "code",
   "id": "556cb6aa",
   "metadata": {
    "ExecuteTime": {
     "end_time": "2025-10-26T20:10:19.780797Z",
     "start_time": "2025-10-26T20:10:19.778259Z"
    }
   },
   "source": [
    "w_stds = {sex: np.sqrt(var) for sex, var in w_variances.items()}\n",
    "print(f\"The weighted standard deviations for each sex are: {w_stds}\")"
   ],
   "outputs": [
    {
     "name": "stdout",
     "output_type": "stream",
     "text": [
      "The weighted standard deviations for each sex are: {'Female': 22.998989559036303, 'Male': 22.67120435900202}\n"
     ]
    }
   ],
   "execution_count": 55
  },
  {
   "metadata": {},
   "cell_type": "markdown",
   "source": [
    "Finding the mode for each sex\n",
    "The mode is the age at which the population is the highest.\n",
    "I can use the idxmax function to find the index of the highest value.\n",
    "https://pandas.pydata.org/docs/reference/api/pandas.DataFrame.idxmax.html"
   ],
   "id": "7c431b993c8f3714"
  },
  {
   "metadata": {
    "ExecuteTime": {
     "end_time": "2025-10-26T20:10:19.831052Z",
     "start_time": "2025-10-26T20:10:19.828017Z"
    }
   },
   "cell_type": "code",
   "source": [
    "modes = {sex: df_anal[sex].idxmax() for sex in sexes}\n",
    "print(f\"The modes for each sex are: {modes}\")"
   ],
   "id": "18b7b6c8f35f375c",
   "outputs": [
    {
     "name": "stdout",
     "output_type": "stream",
     "text": [
      "The modes for each sex are: {'Female': 41, 'Male': 42}\n"
     ]
    }
   ],
   "execution_count": 56
  },
  {
   "metadata": {},
   "cell_type": "markdown",
   "source": [
    "### Statistical Summary by Sex\n",
    "\n",
    "- **Weighted Mean:** Females have an average age of **38.94**, while males average **37.74**, showing that females are slightly older on average.  \n",
    "- **Weighted Median:** The median age is **39 for females** and **38 for males**, meaning half of the female population is older than half of the male population.   \n",
    "- **Weighted Standard Deviation:** The spread of ages is **22.99 for females** and **22.67 for males**, with females showing a slightly wider age range overall.\n",
    "- **Weighted Mode:** The most common ages are **41 for females** and **42 for males**, so both groups peak around the early forties.   \n"
   ],
   "id": "b323363c770c124e"
  },
  {
   "metadata": {},
   "cell_type": "markdown",
   "source": [
    "## Part 2: Grouping people withing 5-year age bands\n",
    "Grouping people within 5 years of age 35 (i.e., ages 30 to 40 inclusive), filter the DataFrame for those ages, sum the populations by sex, and calculate the difference."
   ],
   "id": "666cd1a0448d264a"
  },
  {
   "metadata": {
    "ExecuteTime": {
     "end_time": "2025-10-26T20:21:11.202962Z",
     "start_time": "2025-10-26T20:21:11.200218Z"
    }
   },
   "cell_type": "code",
   "source": [
    "age_of_interest = 35\n",
    "age_range = 5\n",
    "lower_range = age_of_interest - age_range\n",
    "upper_range = age_of_interest + age_range\n",
    "\n",
    "# Select ages within the range using loc function\n",
    "# https://pandas.pydata.org/docs/reference/api/pandas.DataFrame.loc.html\n",
    "age_group = df_anal.loc[lower_range:upper_range]\n",
    "pop_by_sex = age_group.sum()\n",
    "\n",
    "# Calculate the population difference between sexes\n",
    "# Applying the absolute value function to the difference to avoid negative numbers\n",
    "# https://pandas.pydata.org/docs/reference/api/pandas.DataFrame.abs.html\n",
    "pop_diff = abs(pop_by_sex[sexes[0]] - pop_by_sex[sexes[1]])\n",
    "\n",
    "print(f\"Population by sex (ages {lower_range}-{upper_range}):\\n{pop_by_sex}\")\n",
    "print(f\"Population difference between sexes in this age group: {pop_diff}\")"
   ],
   "id": "a51be91797cae80d",
   "outputs": [
    {
     "name": "stdout",
     "output_type": "stream",
     "text": [
      "Population by sex (ages 30-40):\n",
      "Sex\n",
      "Female    25906.625\n",
      "Male      24001.875\n",
      "dtype: float64\n",
      "Population difference between sexes in this age group: 1904.75\n"
     ]
    }
   ],
   "execution_count": 59
  }
 ],
 "metadata": {
  "kernelspec": {
   "display_name": "Python 3 (ipykernel)",
   "language": "python",
   "name": "python3"
  },
  "language_info": {
   "codemirror_mode": {
    "name": "ipython",
    "version": 3
   },
   "file_extension": ".py",
   "mimetype": "text/x-python",
   "name": "python",
   "nbconvert_exporter": "python",
   "pygments_lexer": "ipython3",
   "version": "3.9.7"
  }
 },
 "nbformat": 4,
 "nbformat_minor": 5
}
