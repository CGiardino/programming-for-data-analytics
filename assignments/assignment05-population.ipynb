{
 "cells": [
  {
   "cell_type": "markdown",
   "id": "56c4e6d1",
   "metadata": {},
   "source": [
    "## Weighted stats\n",
    "- This notebook is made in the Programming for Data Analytics lecture on weighted descriptive statistics.\n",
    "- We are looking at population in each county of Ireland\n"
   ]
  },
  {
   "cell_type": "code",
   "id": "e71b0552",
   "metadata": {
    "ExecuteTime": {
     "end_time": "2025-10-26T20:31:52.013005Z",
     "start_time": "2025-10-26T20:31:52.010721Z"
    }
   },
   "source": [
    "import pandas as pd"
   ],
   "outputs": [],
   "execution_count": 85
  },
  {
   "cell_type": "code",
   "id": "d0e6aaf4",
   "metadata": {
    "ExecuteTime": {
     "end_time": "2025-10-26T20:31:52.418233Z",
     "start_time": "2025-10-26T20:31:52.049076Z"
    }
   },
   "source": [
    "url = \"https://ws.cso.ie/public/api.restful/PxStat.Data.Cube_API.ReadDataset/FY006A/CSV/1.0/en\"\n",
    "df = pd.read_csv(url)\n",
    "df.tail(3)"
   ],
   "outputs": [
    {
     "data": {
      "text/plain": [
       "      STATISTIC Statistic Label  TLIST(A1)  CensusYear C02199V02655     Sex  \\\n",
       "9789  FY006AC01      Population       2022        2022            2  Female   \n",
       "9790  FY006AC01      Population       2022        2022            2  Female   \n",
       "9791  FY006AC01      Population       2022        2022            2  Female   \n",
       "\n",
       "     C02076V03371  Single Year of Age                          C03789V04537  \\\n",
       "9789          650  100 years and over  2ae19629-149d-13a3-e055-000000000001   \n",
       "9790          650  100 years and over  2ae19629-14a4-13a3-e055-000000000001   \n",
       "9791          650  100 years and over  2ae19629-1495-13a3-e055-000000000001   \n",
       "\n",
       "      Administrative Counties    UNIT  VALUE  \n",
       "9789     Cavan County Council  Number     12  \n",
       "9790   Donegal County Council  Number     31  \n",
       "9791  Monaghan County Council  Number      7  "
      ],
      "text/html": [
       "<div>\n",
       "<style scoped>\n",
       "    .dataframe tbody tr th:only-of-type {\n",
       "        vertical-align: middle;\n",
       "    }\n",
       "\n",
       "    .dataframe tbody tr th {\n",
       "        vertical-align: top;\n",
       "    }\n",
       "\n",
       "    .dataframe thead th {\n",
       "        text-align: right;\n",
       "    }\n",
       "</style>\n",
       "<table border=\"1\" class=\"dataframe\">\n",
       "  <thead>\n",
       "    <tr style=\"text-align: right;\">\n",
       "      <th></th>\n",
       "      <th>STATISTIC</th>\n",
       "      <th>Statistic Label</th>\n",
       "      <th>TLIST(A1)</th>\n",
       "      <th>CensusYear</th>\n",
       "      <th>C02199V02655</th>\n",
       "      <th>Sex</th>\n",
       "      <th>C02076V03371</th>\n",
       "      <th>Single Year of Age</th>\n",
       "      <th>C03789V04537</th>\n",
       "      <th>Administrative Counties</th>\n",
       "      <th>UNIT</th>\n",
       "      <th>VALUE</th>\n",
       "    </tr>\n",
       "  </thead>\n",
       "  <tbody>\n",
       "    <tr>\n",
       "      <th>9789</th>\n",
       "      <td>FY006AC01</td>\n",
       "      <td>Population</td>\n",
       "      <td>2022</td>\n",
       "      <td>2022</td>\n",
       "      <td>2</td>\n",
       "      <td>Female</td>\n",
       "      <td>650</td>\n",
       "      <td>100 years and over</td>\n",
       "      <td>2ae19629-149d-13a3-e055-000000000001</td>\n",
       "      <td>Cavan County Council</td>\n",
       "      <td>Number</td>\n",
       "      <td>12</td>\n",
       "    </tr>\n",
       "    <tr>\n",
       "      <th>9790</th>\n",
       "      <td>FY006AC01</td>\n",
       "      <td>Population</td>\n",
       "      <td>2022</td>\n",
       "      <td>2022</td>\n",
       "      <td>2</td>\n",
       "      <td>Female</td>\n",
       "      <td>650</td>\n",
       "      <td>100 years and over</td>\n",
       "      <td>2ae19629-14a4-13a3-e055-000000000001</td>\n",
       "      <td>Donegal County Council</td>\n",
       "      <td>Number</td>\n",
       "      <td>31</td>\n",
       "    </tr>\n",
       "    <tr>\n",
       "      <th>9791</th>\n",
       "      <td>FY006AC01</td>\n",
       "      <td>Population</td>\n",
       "      <td>2022</td>\n",
       "      <td>2022</td>\n",
       "      <td>2</td>\n",
       "      <td>Female</td>\n",
       "      <td>650</td>\n",
       "      <td>100 years and over</td>\n",
       "      <td>2ae19629-1495-13a3-e055-000000000001</td>\n",
       "      <td>Monaghan County Council</td>\n",
       "      <td>Number</td>\n",
       "      <td>7</td>\n",
       "    </tr>\n",
       "  </tbody>\n",
       "</table>\n",
       "</div>"
      ]
     },
     "execution_count": 86,
     "metadata": {},
     "output_type": "execute_result"
    }
   ],
   "execution_count": 86
  },
  {
   "cell_type": "markdown",
   "id": "1979172c",
   "metadata": {},
   "source": "I keep just the separated sexes"
  },
  {
   "cell_type": "code",
   "id": "8ec2b205",
   "metadata": {
    "ExecuteTime": {
     "end_time": "2025-10-26T20:31:52.444505Z",
     "start_time": "2025-10-26T20:31:52.439348Z"
    }
   },
   "source": [
    "df = df[df[\"Sex\"] != \"Both sexes\"]\n",
    "df = df[df[\"Administrative Counties\"] != \"Ireland\"]\n",
    "df.tail(3)"
   ],
   "outputs": [
    {
     "data": {
      "text/plain": [
       "      STATISTIC Statistic Label  TLIST(A1)  CensusYear C02199V02655     Sex  \\\n",
       "9789  FY006AC01      Population       2022        2022            2  Female   \n",
       "9790  FY006AC01      Population       2022        2022            2  Female   \n",
       "9791  FY006AC01      Population       2022        2022            2  Female   \n",
       "\n",
       "     C02076V03371  Single Year of Age                          C03789V04537  \\\n",
       "9789          650  100 years and over  2ae19629-149d-13a3-e055-000000000001   \n",
       "9790          650  100 years and over  2ae19629-14a4-13a3-e055-000000000001   \n",
       "9791          650  100 years and over  2ae19629-1495-13a3-e055-000000000001   \n",
       "\n",
       "      Administrative Counties    UNIT  VALUE  \n",
       "9789     Cavan County Council  Number     12  \n",
       "9790   Donegal County Council  Number     31  \n",
       "9791  Monaghan County Council  Number      7  "
      ],
      "text/html": [
       "<div>\n",
       "<style scoped>\n",
       "    .dataframe tbody tr th:only-of-type {\n",
       "        vertical-align: middle;\n",
       "    }\n",
       "\n",
       "    .dataframe tbody tr th {\n",
       "        vertical-align: top;\n",
       "    }\n",
       "\n",
       "    .dataframe thead th {\n",
       "        text-align: right;\n",
       "    }\n",
       "</style>\n",
       "<table border=\"1\" class=\"dataframe\">\n",
       "  <thead>\n",
       "    <tr style=\"text-align: right;\">\n",
       "      <th></th>\n",
       "      <th>STATISTIC</th>\n",
       "      <th>Statistic Label</th>\n",
       "      <th>TLIST(A1)</th>\n",
       "      <th>CensusYear</th>\n",
       "      <th>C02199V02655</th>\n",
       "      <th>Sex</th>\n",
       "      <th>C02076V03371</th>\n",
       "      <th>Single Year of Age</th>\n",
       "      <th>C03789V04537</th>\n",
       "      <th>Administrative Counties</th>\n",
       "      <th>UNIT</th>\n",
       "      <th>VALUE</th>\n",
       "    </tr>\n",
       "  </thead>\n",
       "  <tbody>\n",
       "    <tr>\n",
       "      <th>9789</th>\n",
       "      <td>FY006AC01</td>\n",
       "      <td>Population</td>\n",
       "      <td>2022</td>\n",
       "      <td>2022</td>\n",
       "      <td>2</td>\n",
       "      <td>Female</td>\n",
       "      <td>650</td>\n",
       "      <td>100 years and over</td>\n",
       "      <td>2ae19629-149d-13a3-e055-000000000001</td>\n",
       "      <td>Cavan County Council</td>\n",
       "      <td>Number</td>\n",
       "      <td>12</td>\n",
       "    </tr>\n",
       "    <tr>\n",
       "      <th>9790</th>\n",
       "      <td>FY006AC01</td>\n",
       "      <td>Population</td>\n",
       "      <td>2022</td>\n",
       "      <td>2022</td>\n",
       "      <td>2</td>\n",
       "      <td>Female</td>\n",
       "      <td>650</td>\n",
       "      <td>100 years and over</td>\n",
       "      <td>2ae19629-14a4-13a3-e055-000000000001</td>\n",
       "      <td>Donegal County Council</td>\n",
       "      <td>Number</td>\n",
       "      <td>31</td>\n",
       "    </tr>\n",
       "    <tr>\n",
       "      <th>9791</th>\n",
       "      <td>FY006AC01</td>\n",
       "      <td>Population</td>\n",
       "      <td>2022</td>\n",
       "      <td>2022</td>\n",
       "      <td>2</td>\n",
       "      <td>Female</td>\n",
       "      <td>650</td>\n",
       "      <td>100 years and over</td>\n",
       "      <td>2ae19629-1495-13a3-e055-000000000001</td>\n",
       "      <td>Monaghan County Council</td>\n",
       "      <td>Number</td>\n",
       "      <td>7</td>\n",
       "    </tr>\n",
       "  </tbody>\n",
       "</table>\n",
       "</div>"
      ]
     },
     "execution_count": 87,
     "metadata": {},
     "output_type": "execute_result"
    }
   ],
   "execution_count": 87
  },
  {
   "cell_type": "markdown",
   "id": "9ddd7162",
   "metadata": {},
   "source": [
    "Now I can do the code that is the prep for analysis.py  \n",
    "I just noticed that there were more columns so I need to get their names"
   ]
  },
  {
   "cell_type": "code",
   "id": "d6d72e19",
   "metadata": {
    "scrolled": true,
    "ExecuteTime": {
     "end_time": "2025-10-26T20:31:52.513831Z",
     "start_time": "2025-10-26T20:31:52.510362Z"
    }
   },
   "source": [
    "headers = df.columns.tolist()\n",
    "headers"
   ],
   "outputs": [
    {
     "data": {
      "text/plain": [
       "['STATISTIC',\n",
       " 'Statistic Label',\n",
       " 'TLIST(A1)',\n",
       " 'CensusYear',\n",
       " 'C02199V02655',\n",
       " 'Sex',\n",
       " 'C02076V03371',\n",
       " 'Single Year of Age',\n",
       " 'C03789V04537',\n",
       " 'Administrative Counties',\n",
       " 'UNIT',\n",
       " 'VALUE']"
      ]
     },
     "execution_count": 88,
     "metadata": {},
     "output_type": "execute_result"
    }
   ],
   "execution_count": 88
  },
  {
   "cell_type": "code",
   "id": "08f6cda0",
   "metadata": {
    "ExecuteTime": {
     "end_time": "2025-10-26T20:31:52.565502Z",
     "start_time": "2025-10-26T20:31:52.557293Z"
    }
   },
   "source": [
    "drop_col_list = ['STATISTIC', 'Statistic Label','TLIST(A1)','CensusYear','C02199V02655','C02076V03371','C03789V04537','UNIT']\n",
    "df.drop(columns=drop_col_list, inplace=True)\n",
    "df = df[df[\"Single Year of Age\"] != \"All ages\"]\n",
    "df['Single Year of Age'] = df['Single Year of Age'].str.replace('Under 1 year', '0')\n",
    "df['Single Year of Age'] = df['Single Year of Age'].str.replace('\\D', '', regex=True)\n",
    "\n",
    "df['Single Year of Age']=df['Single Year of Age'].astype('int64')\n",
    "df['VALUE']=df['VALUE'].astype('int64')\n",
    "df.info()\n"
   ],
   "outputs": [
    {
     "name": "stdout",
     "output_type": "stream",
     "text": [
      "<class 'pandas.core.frame.DataFrame'>\n",
      "Index: 6262 entries, 3297 to 9791\n",
      "Data columns (total 4 columns):\n",
      " #   Column                   Non-Null Count  Dtype \n",
      "---  ------                   --------------  ----- \n",
      " 0   Sex                      6262 non-null   object\n",
      " 1   Single Year of Age       6262 non-null   int64 \n",
      " 2   Administrative Counties  6262 non-null   object\n",
      " 3   VALUE                    6262 non-null   int64 \n",
      "dtypes: int64(2), object(2)\n",
      "memory usage: 244.6+ KB\n"
     ]
    },
    {
     "name": "stderr",
     "output_type": "stream",
     "text": [
      "<>:5: SyntaxWarning: invalid escape sequence '\\D'\n",
      "<>:5: SyntaxWarning: invalid escape sequence '\\D'\n",
      "/var/folders/71/lgn75sbs3sngtkrhdkwngslm0000gn/T/ipykernel_54001/4072927167.py:5: SyntaxWarning: invalid escape sequence '\\D'\n",
      "  df['Single Year of Age'] = df['Single Year of Age'].str.replace('\\D', '', regex=True)\n"
     ]
    }
   ],
   "execution_count": 89
  },
  {
   "cell_type": "code",
   "id": "ce078e65",
   "metadata": {
    "ExecuteTime": {
     "end_time": "2025-10-26T20:31:52.594571Z",
     "start_time": "2025-10-26T20:31:52.589656Z"
    }
   },
   "source": [
    "df_anal = pd.pivot_table(df, 'VALUE',\"Single Year of Age\",\"Sex\")\n",
    "print (df_anal.head(3))\n",
    "# write out the entire file to local machine\n",
    "df_anal.to_csv(\"population_for_analysis.csv\")"
   ],
   "outputs": [
    {
     "name": "stdout",
     "output_type": "stream",
     "text": [
      "Sex                     Female        Male\n",
      "Single Year of Age                        \n",
      "0                   909.225806  955.161290\n",
      "1                   888.548387  931.451613\n",
      "2                   934.645161  975.354839\n"
     ]
    }
   ],
   "execution_count": 90
  },
  {
   "cell_type": "markdown",
   "id": "ff892a81",
   "metadata": {},
   "source": [
    "## Now we can do weighted descriptive statistics"
   ]
  },
  {
   "metadata": {
    "ExecuteTime": {
     "end_time": "2025-10-26T20:31:52.615823Z",
     "start_time": "2025-10-26T20:31:52.613819Z"
    }
   },
   "cell_type": "code",
   "source": [
    "sexes = list(df_anal.columns)\n",
    "sexes"
   ],
   "id": "d35365ca",
   "outputs": [
    {
     "data": {
      "text/plain": [
       "['Female', 'Male']"
      ]
     },
     "execution_count": 91,
     "metadata": {},
     "output_type": "execute_result"
    }
   ],
   "execution_count": 91
  },
  {
   "cell_type": "markdown",
   "id": "7453bfad",
   "metadata": {},
   "source": [
    "Weighted mean is sum(age*population at age) / sum (populations at age)"
   ]
  },
  {
   "cell_type": "code",
   "id": "8466d64e",
   "metadata": {
    "ExecuteTime": {
     "end_time": "2025-10-26T20:31:52.641926Z",
     "start_time": "2025-10-26T20:31:52.638628Z"
    }
   },
   "source": [
    "number_people = df_anal[sexes].sum()\n",
    "number_people_df = number_people.to_frame(name='Number of People')\n",
    "number_people_df\n"
   ],
   "outputs": [
    {
     "data": {
      "text/plain": [
       "        Number of People\n",
       "Sex                     \n",
       "Female      84019.032258\n",
       "Male        82082.225806"
      ],
      "text/html": [
       "<div>\n",
       "<style scoped>\n",
       "    .dataframe tbody tr th:only-of-type {\n",
       "        vertical-align: middle;\n",
       "    }\n",
       "\n",
       "    .dataframe tbody tr th {\n",
       "        vertical-align: top;\n",
       "    }\n",
       "\n",
       "    .dataframe thead th {\n",
       "        text-align: right;\n",
       "    }\n",
       "</style>\n",
       "<table border=\"1\" class=\"dataframe\">\n",
       "  <thead>\n",
       "    <tr style=\"text-align: right;\">\n",
       "      <th></th>\n",
       "      <th>Number of People</th>\n",
       "    </tr>\n",
       "    <tr>\n",
       "      <th>Sex</th>\n",
       "      <th></th>\n",
       "    </tr>\n",
       "  </thead>\n",
       "  <tbody>\n",
       "    <tr>\n",
       "      <th>Female</th>\n",
       "      <td>84019.032258</td>\n",
       "    </tr>\n",
       "    <tr>\n",
       "      <th>Male</th>\n",
       "      <td>82082.225806</td>\n",
       "    </tr>\n",
       "  </tbody>\n",
       "</table>\n",
       "</div>"
      ]
     },
     "execution_count": 92,
     "metadata": {},
     "output_type": "execute_result"
    }
   ],
   "execution_count": 92
  },
  {
   "cell_type": "code",
   "id": "78619831",
   "metadata": {
    "ExecuteTime": {
     "end_time": "2025-10-26T20:31:52.678803Z",
     "start_time": "2025-10-26T20:31:52.675360Z"
    }
   },
   "source": [
    "df_anal"
   ],
   "outputs": [
    {
     "data": {
      "text/plain": [
       "Sex                     Female         Male\n",
       "Single Year of Age                         \n",
       "0                   909.225806   955.161290\n",
       "1                   888.548387   931.451613\n",
       "2                   934.645161   975.354839\n",
       "3                   951.064516  1000.032258\n",
       "4                   961.903226  1022.129032\n",
       "...                        ...          ...\n",
       "96                   30.838710    10.548387\n",
       "97                   23.612903     7.000000\n",
       "98                   15.870968     4.193548\n",
       "99                   10.838710     3.387097\n",
       "100                  18.838710     4.967742\n",
       "\n",
       "[101 rows x 2 columns]"
      ],
      "text/html": [
       "<div>\n",
       "<style scoped>\n",
       "    .dataframe tbody tr th:only-of-type {\n",
       "        vertical-align: middle;\n",
       "    }\n",
       "\n",
       "    .dataframe tbody tr th {\n",
       "        vertical-align: top;\n",
       "    }\n",
       "\n",
       "    .dataframe thead th {\n",
       "        text-align: right;\n",
       "    }\n",
       "</style>\n",
       "<table border=\"1\" class=\"dataframe\">\n",
       "  <thead>\n",
       "    <tr style=\"text-align: right;\">\n",
       "      <th>Sex</th>\n",
       "      <th>Female</th>\n",
       "      <th>Male</th>\n",
       "    </tr>\n",
       "    <tr>\n",
       "      <th>Single Year of Age</th>\n",
       "      <th></th>\n",
       "      <th></th>\n",
       "    </tr>\n",
       "  </thead>\n",
       "  <tbody>\n",
       "    <tr>\n",
       "      <th>0</th>\n",
       "      <td>909.225806</td>\n",
       "      <td>955.161290</td>\n",
       "    </tr>\n",
       "    <tr>\n",
       "      <th>1</th>\n",
       "      <td>888.548387</td>\n",
       "      <td>931.451613</td>\n",
       "    </tr>\n",
       "    <tr>\n",
       "      <th>2</th>\n",
       "      <td>934.645161</td>\n",
       "      <td>975.354839</td>\n",
       "    </tr>\n",
       "    <tr>\n",
       "      <th>3</th>\n",
       "      <td>951.064516</td>\n",
       "      <td>1000.032258</td>\n",
       "    </tr>\n",
       "    <tr>\n",
       "      <th>4</th>\n",
       "      <td>961.903226</td>\n",
       "      <td>1022.129032</td>\n",
       "    </tr>\n",
       "    <tr>\n",
       "      <th>...</th>\n",
       "      <td>...</td>\n",
       "      <td>...</td>\n",
       "    </tr>\n",
       "    <tr>\n",
       "      <th>96</th>\n",
       "      <td>30.838710</td>\n",
       "      <td>10.548387</td>\n",
       "    </tr>\n",
       "    <tr>\n",
       "      <th>97</th>\n",
       "      <td>23.612903</td>\n",
       "      <td>7.000000</td>\n",
       "    </tr>\n",
       "    <tr>\n",
       "      <th>98</th>\n",
       "      <td>15.870968</td>\n",
       "      <td>4.193548</td>\n",
       "    </tr>\n",
       "    <tr>\n",
       "      <th>99</th>\n",
       "      <td>10.838710</td>\n",
       "      <td>3.387097</td>\n",
       "    </tr>\n",
       "    <tr>\n",
       "      <th>100</th>\n",
       "      <td>18.838710</td>\n",
       "      <td>4.967742</td>\n",
       "    </tr>\n",
       "  </tbody>\n",
       "</table>\n",
       "<p>101 rows × 2 columns</p>\n",
       "</div>"
      ]
     },
     "execution_count": 93,
     "metadata": {},
     "output_type": "execute_result"
    }
   ],
   "execution_count": 93
  },
  {
   "cell_type": "code",
   "id": "f9d66c3a",
   "metadata": {
    "ExecuteTime": {
     "end_time": "2025-10-26T20:31:52.757498Z",
     "start_time": "2025-10-26T20:31:52.752805Z"
    }
   },
   "source": [
    "cumages = df_anal[sexes].mul(df_anal.index, axis=0).sum()\n",
    "cumages_df = cumages.to_frame(name='Cumulative Age')\n",
    "cumages_df\n"
   ],
   "outputs": [
    {
     "data": {
      "text/plain": [
       "        Cumulative Age\n",
       "Sex                   \n",
       "Female    3.271684e+06\n",
       "Male      3.097738e+06"
      ],
      "text/html": [
       "<div>\n",
       "<style scoped>\n",
       "    .dataframe tbody tr th:only-of-type {\n",
       "        vertical-align: middle;\n",
       "    }\n",
       "\n",
       "    .dataframe tbody tr th {\n",
       "        vertical-align: top;\n",
       "    }\n",
       "\n",
       "    .dataframe thead th {\n",
       "        text-align: right;\n",
       "    }\n",
       "</style>\n",
       "<table border=\"1\" class=\"dataframe\">\n",
       "  <thead>\n",
       "    <tr style=\"text-align: right;\">\n",
       "      <th></th>\n",
       "      <th>Cumulative Age</th>\n",
       "    </tr>\n",
       "    <tr>\n",
       "      <th>Sex</th>\n",
       "      <th></th>\n",
       "    </tr>\n",
       "  </thead>\n",
       "  <tbody>\n",
       "    <tr>\n",
       "      <th>Female</th>\n",
       "      <td>3.271684e+06</td>\n",
       "    </tr>\n",
       "    <tr>\n",
       "      <th>Male</th>\n",
       "      <td>3.097738e+06</td>\n",
       "    </tr>\n",
       "  </tbody>\n",
       "</table>\n",
       "</div>"
      ]
     },
     "execution_count": 94,
     "metadata": {},
     "output_type": "execute_result"
    }
   ],
   "execution_count": 94
  },
  {
   "cell_type": "code",
   "id": "4098afba",
   "metadata": {
    "scrolled": true,
    "ExecuteTime": {
     "end_time": "2025-10-26T20:31:52.824052Z",
     "start_time": "2025-10-26T20:31:52.820950Z"
    }
   },
   "source": [
    "weighted_mean = cumages/number_people\n",
    "weighted_mean_df = weighted_mean.to_frame(name='Weighted Mean')\n",
    "weighted_mean_df"
   ],
   "outputs": [
    {
     "data": {
      "text/plain": [
       "        Weighted Mean\n",
       "Sex                  \n",
       "Female      38.939796\n",
       "Male        37.739448"
      ],
      "text/html": [
       "<div>\n",
       "<style scoped>\n",
       "    .dataframe tbody tr th:only-of-type {\n",
       "        vertical-align: middle;\n",
       "    }\n",
       "\n",
       "    .dataframe tbody tr th {\n",
       "        vertical-align: top;\n",
       "    }\n",
       "\n",
       "    .dataframe thead th {\n",
       "        text-align: right;\n",
       "    }\n",
       "</style>\n",
       "<table border=\"1\" class=\"dataframe\">\n",
       "  <thead>\n",
       "    <tr style=\"text-align: right;\">\n",
       "      <th></th>\n",
       "      <th>Weighted Mean</th>\n",
       "    </tr>\n",
       "    <tr>\n",
       "      <th>Sex</th>\n",
       "      <th></th>\n",
       "    </tr>\n",
       "  </thead>\n",
       "  <tbody>\n",
       "    <tr>\n",
       "      <th>Female</th>\n",
       "      <td>38.939796</td>\n",
       "    </tr>\n",
       "    <tr>\n",
       "      <th>Male</th>\n",
       "      <td>37.739448</td>\n",
       "    </tr>\n",
       "  </tbody>\n",
       "</table>\n",
       "</div>"
      ]
     },
     "execution_count": 95,
     "metadata": {},
     "output_type": "execute_result"
    }
   ],
   "execution_count": 95
  },
  {
   "cell_type": "markdown",
   "id": "9e81ea0d",
   "metadata": {},
   "source": [
    "#### Or you can use numpy"
   ]
  },
  {
   "cell_type": "code",
   "id": "0e52be27",
   "metadata": {
    "ExecuteTime": {
     "end_time": "2025-10-26T20:31:52.934465Z",
     "start_time": "2025-10-26T20:31:52.932593Z"
    }
   },
   "source": [
    "import numpy as np\n",
    "weighted_means = {}\n",
    "for sex in sexes:\n",
    "    weighted_means[sex] = np.average(df_anal.index, weights=df_anal[sex])\n",
    "\n",
    "print(f\"The weighted means by sex are: {weighted_means}\")"
   ],
   "outputs": [
    {
     "name": "stdout",
     "output_type": "stream",
     "text": [
      "The weighted means by sex are: {'Female': 38.93979589877869, 'Male': 37.73944773710391}\n"
     ]
    }
   ],
   "execution_count": 96
  },
  {
   "cell_type": "markdown",
   "id": "e8f95b44",
   "metadata": {},
   "source": [
    "### Weighted median\n",
    "create a series of the cumulative sums and find the index of the middle value"
   ]
  },
  {
   "cell_type": "code",
   "id": "7a8ccf7c",
   "metadata": {
    "ExecuteTime": {
     "end_time": "2025-10-26T20:31:52.961166Z",
     "start_time": "2025-10-26T20:31:52.957125Z"
    }
   },
   "source": [
    "cumsum = df_anal[sexes].cumsum()\n",
    "cumsum"
   ],
   "outputs": [
    {
     "data": {
      "text/plain": [
       "Sex                       Female          Male\n",
       "Single Year of Age                            \n",
       "0                     909.225806    955.161290\n",
       "1                    1797.774194   1886.612903\n",
       "2                    2732.419355   2861.967742\n",
       "3                    3683.483871   3862.000000\n",
       "4                    4645.387097   4884.129032\n",
       "...                          ...           ...\n",
       "96                  83949.870968  82062.677419\n",
       "97                  83973.483871  82069.677419\n",
       "98                  83989.354839  82073.870968\n",
       "99                  84000.193548  82077.258065\n",
       "100                 84019.032258  82082.225806\n",
       "\n",
       "[101 rows x 2 columns]"
      ],
      "text/html": [
       "<div>\n",
       "<style scoped>\n",
       "    .dataframe tbody tr th:only-of-type {\n",
       "        vertical-align: middle;\n",
       "    }\n",
       "\n",
       "    .dataframe tbody tr th {\n",
       "        vertical-align: top;\n",
       "    }\n",
       "\n",
       "    .dataframe thead th {\n",
       "        text-align: right;\n",
       "    }\n",
       "</style>\n",
       "<table border=\"1\" class=\"dataframe\">\n",
       "  <thead>\n",
       "    <tr style=\"text-align: right;\">\n",
       "      <th>Sex</th>\n",
       "      <th>Female</th>\n",
       "      <th>Male</th>\n",
       "    </tr>\n",
       "    <tr>\n",
       "      <th>Single Year of Age</th>\n",
       "      <th></th>\n",
       "      <th></th>\n",
       "    </tr>\n",
       "  </thead>\n",
       "  <tbody>\n",
       "    <tr>\n",
       "      <th>0</th>\n",
       "      <td>909.225806</td>\n",
       "      <td>955.161290</td>\n",
       "    </tr>\n",
       "    <tr>\n",
       "      <th>1</th>\n",
       "      <td>1797.774194</td>\n",
       "      <td>1886.612903</td>\n",
       "    </tr>\n",
       "    <tr>\n",
       "      <th>2</th>\n",
       "      <td>2732.419355</td>\n",
       "      <td>2861.967742</td>\n",
       "    </tr>\n",
       "    <tr>\n",
       "      <th>3</th>\n",
       "      <td>3683.483871</td>\n",
       "      <td>3862.000000</td>\n",
       "    </tr>\n",
       "    <tr>\n",
       "      <th>4</th>\n",
       "      <td>4645.387097</td>\n",
       "      <td>4884.129032</td>\n",
       "    </tr>\n",
       "    <tr>\n",
       "      <th>...</th>\n",
       "      <td>...</td>\n",
       "      <td>...</td>\n",
       "    </tr>\n",
       "    <tr>\n",
       "      <th>96</th>\n",
       "      <td>83949.870968</td>\n",
       "      <td>82062.677419</td>\n",
       "    </tr>\n",
       "    <tr>\n",
       "      <th>97</th>\n",
       "      <td>83973.483871</td>\n",
       "      <td>82069.677419</td>\n",
       "    </tr>\n",
       "    <tr>\n",
       "      <th>98</th>\n",
       "      <td>83989.354839</td>\n",
       "      <td>82073.870968</td>\n",
       "    </tr>\n",
       "    <tr>\n",
       "      <th>99</th>\n",
       "      <td>84000.193548</td>\n",
       "      <td>82077.258065</td>\n",
       "    </tr>\n",
       "    <tr>\n",
       "      <th>100</th>\n",
       "      <td>84019.032258</td>\n",
       "      <td>82082.225806</td>\n",
       "    </tr>\n",
       "  </tbody>\n",
       "</table>\n",
       "<p>101 rows × 2 columns</p>\n",
       "</div>"
      ]
     },
     "execution_count": 97,
     "metadata": {},
     "output_type": "execute_result"
    }
   ],
   "execution_count": 97
  },
  {
   "cell_type": "code",
   "id": "0436d3ee",
   "metadata": {
    "ExecuteTime": {
     "end_time": "2025-10-26T20:31:52.995575Z",
     "start_time": "2025-10-26T20:31:52.992993Z"
    }
   },
   "source": [
    "weighted_medians = {}\n",
    "for sex in sexes:\n",
    "    cumsum = df_anal[sex].cumsum()\n",
    "    cutoff = df_anal[sex].sum() / 2\n",
    "    median_age = cumsum.index[cumsum >= cutoff][0]\n",
    "    weighted_medians[sex] = median_age\n",
    "\n",
    "print(f\"The weighted medians by sex are: {weighted_medians}\")"
   ],
   "outputs": [
    {
     "name": "stdout",
     "output_type": "stream",
     "text": [
      "The weighted medians by sex are: {'Female': 39, 'Male': 38}\n"
     ]
    }
   ],
   "execution_count": 98
  },
  {
   "cell_type": "markdown",
   "id": "c44b528f",
   "metadata": {},
   "source": [
    "## Weighted standard deviation\n",
    "The weighted standard deviation uses the same formula as the regular standard deviation, but applies weights to the squared differences from the weighted mean.\n"
   ]
  },
  {
   "cell_type": "code",
   "id": "721c9168",
   "metadata": {
    "ExecuteTime": {
     "end_time": "2025-10-26T20:31:53.044707Z",
     "start_time": "2025-10-26T20:31:53.042445Z"
    }
   },
   "source": [
    "w_variances = {}\n",
    "for sex in sexes:\n",
    "    mean = np.average(df_anal.index, weights=df_anal[sex])\n",
    "    variance = np.average((df_anal.index - mean) ** 2, weights=df_anal[sex])\n",
    "    w_variances[sex] = variance\n",
    "\n",
    "print(f\"The weighted variances for each sex are: {w_variances}\")"
   ],
   "outputs": [
    {
     "name": "stdout",
     "output_type": "stream",
     "text": [
      "The weighted variances for each sex are: {'Female': 528.953520736661, 'Male': 513.9835070876321}\n"
     ]
    }
   ],
   "execution_count": 99
  },
  {
   "cell_type": "code",
   "id": "556cb6aa",
   "metadata": {
    "ExecuteTime": {
     "end_time": "2025-10-26T20:31:53.075033Z",
     "start_time": "2025-10-26T20:31:53.073184Z"
    }
   },
   "source": [
    "w_stds = {sex: np.sqrt(var) for sex, var in w_variances.items()}\n",
    "print(f\"The weighted standard deviations for each sex are: {w_stds}\")"
   ],
   "outputs": [
    {
     "name": "stdout",
     "output_type": "stream",
     "text": [
      "The weighted standard deviations for each sex are: {'Female': 22.998989559036303, 'Male': 22.67120435900202}\n"
     ]
    }
   ],
   "execution_count": 100
  },
  {
   "metadata": {},
   "cell_type": "markdown",
   "source": [
    "Finding the mode for each sex\n",
    "The mode is the age at which the population is the highest.\n",
    "I can use the idxmax function to find the index of the highest value.\n",
    "https://pandas.pydata.org/docs/reference/api/pandas.DataFrame.idxmax.html"
   ],
   "id": "7c431b993c8f3714"
  },
  {
   "metadata": {
    "ExecuteTime": {
     "end_time": "2025-10-26T20:31:53.121728Z",
     "start_time": "2025-10-26T20:31:53.119670Z"
    }
   },
   "cell_type": "code",
   "source": [
    "modes = {sex: df_anal[sex].idxmax() for sex in sexes}\n",
    "print(f\"The modes for each sex are: {modes}\")"
   ],
   "id": "18b7b6c8f35f375c",
   "outputs": [
    {
     "name": "stdout",
     "output_type": "stream",
     "text": [
      "The modes for each sex are: {'Female': 41, 'Male': 42}\n"
     ]
    }
   ],
   "execution_count": 101
  },
  {
   "metadata": {},
   "cell_type": "markdown",
   "source": [
    "### Statistical Summary by Sex\n",
    "\n",
    "- **Weighted Mean:** Females have an average age of **38.94**, while males average **37.74**, showing that females are slightly older on average.  \n",
    "- **Weighted Median:** The median age is **39 for females** and **38 for males**, meaning half of the female population is older than half of the male population.   \n",
    "- **Weighted Standard Deviation:** The spread of ages is **22.99 for females** and **22.67 for males**, with females showing a slightly wider age range overall.\n",
    "- **Weighted Mode:** The most common ages are **41 for females** and **42 for males**, so both groups peak around the early forties.   \n"
   ],
   "id": "b323363c770c124e"
  },
  {
   "metadata": {},
   "cell_type": "markdown",
   "source": [
    "## Part 2: Grouping people withing 5-year age bands\n",
    "Grouping people within 5 years of age 35 (i.e., ages 30 to 40 inclusive), filter the DataFrame for those ages, sum the populations by sex, and calculate the difference."
   ],
   "id": "666cd1a0448d264a"
  },
  {
   "metadata": {
    "ExecuteTime": {
     "end_time": "2025-10-26T20:31:53.145642Z",
     "start_time": "2025-10-26T20:31:53.142941Z"
    }
   },
   "cell_type": "code",
   "source": [
    "age_of_interest = 35\n",
    "age_range = 5\n",
    "lower_range = age_of_interest - age_range\n",
    "upper_range = age_of_interest + age_range\n",
    "\n",
    "# Select ages within the range using loc function\n",
    "# https://pandas.pydata.org/docs/reference/api/pandas.DataFrame.loc.html\n",
    "age_group = df_anal.loc[lower_range:upper_range]\n",
    "pop_by_sex = age_group.sum()\n",
    "\n",
    "# Calculate the population difference between sexes\n",
    "# Applying the absolute value function to the difference to avoid negative numbers\n",
    "# https://pandas.pydata.org/docs/reference/api/pandas.DataFrame.abs.html\n",
    "pop_diff = abs(pop_by_sex[sexes[0]] - pop_by_sex[sexes[1]])\n",
    "\n",
    "print(f\"Population by sex (ages {lower_range}-{upper_range}):\\n{pop_by_sex}\")\n",
    "print(f\"Population difference between sexes in this age group: {pop_diff}\")"
   ],
   "id": "a51be91797cae80d",
   "outputs": [
    {
     "name": "stdout",
     "output_type": "stream",
     "text": [
      "Population by sex (ages 30-40):\n",
      "Sex\n",
      "Female    13371.161290\n",
      "Male      12388.064516\n",
      "dtype: float64\n",
      "Population difference between sexes in this age group: 983.0967741935456\n"
     ]
    }
   ],
   "execution_count": 102
  },
  {
   "metadata": {},
   "cell_type": "markdown",
   "source": [
    "## Part 3: Finding the region with the highest population\n",
    "Finding which region in Ireland has the highest population difference between the sexes in that age group"
   ],
   "id": "c4eefd591026adee"
  },
  {
   "metadata": {
    "ExecuteTime": {
     "end_time": "2025-10-26T20:42:53.467672Z",
     "start_time": "2025-10-26T20:42:53.459092Z"
    }
   },
   "cell_type": "code",
   "source": [
    "# Filter for ages in the ranges defined before in Part 2\n",
    "# Using the original DataFrame to group by the counties and sexes in the age range\n",
    "age_group_df = df[(df['Single Year of Age'] >= lower_range) & (df['Single Year of Age'] <= upper_range)]\n",
    "\n",
    "# Group by county and sex, sum population\n",
    "# Using groupby to aggregate data and sum the population\n",
    "# https://pandas.pydata.org/docs/reference/api/pandas.DataFrame.groupby.html\n",
    "region_sex_pop_grouped = age_group_df.groupby(['Administrative Counties', 'Sex'])['VALUE'].sum()\n",
    "\n",
    "# Unstack to get sexes as columns\n",
    "# https://pandas.pydata.org/docs/reference/api/pandas.DataFrame.unstack.html\n",
    "region_sex_pop = region_sex_pop_grouped.unstack()\n",
    "\n",
    "# Calculate the absolute difference between sexes and store in a new column 'Pop_Diff'\n",
    "region_sex_pop['Pop_Diff'] = (region_sex_pop[sexes[0]] - region_sex_pop[sexes[1]]).abs()\n",
    "\n",
    "# Find the region with the highest difference in Pop_Diff\n",
    "max_diff_region = region_sex_pop['Pop_Diff'].idxmax()\n",
    "# Find the value of the highest difference\n",
    "max_diff_value = region_sex_pop['Pop_Diff'].max()\n",
    "\n",
    "print(f\"The region with the highest population difference is: {max_diff_region} ({max_diff_value})\")"
   ],
   "id": "fef1bf5acfdfbfe1",
   "outputs": [
    {
     "name": "stdout",
     "output_type": "stream",
     "text": [
      "The region with the highest population difference is: Fingal County Council (2942)\n"
     ]
    }
   ],
   "execution_count": 107
  }
 ],
 "metadata": {
  "kernelspec": {
   "display_name": "Python 3 (ipykernel)",
   "language": "python",
   "name": "python3"
  },
  "language_info": {
   "codemirror_mode": {
    "name": "ipython",
    "version": 3
   },
   "file_extension": ".py",
   "mimetype": "text/x-python",
   "name": "python",
   "nbconvert_exporter": "python",
   "pygments_lexer": "ipython3",
   "version": "3.9.7"
  }
 },
 "nbformat": 4,
 "nbformat_minor": 5
}
